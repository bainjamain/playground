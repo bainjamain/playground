{
 "cells": [
  {
   "cell_type": "markdown",
   "metadata": {},
   "source": [
    "# Baseline\n",
    "\n",
    "We establish a strong baseline in this notebook with:\n",
    "- Local Outlier Factor (LOF),\n",
    "- One-Class SVM,\n",
    "- Isolation Forest,\n",
    "- Autoencoder.\n",
    "\n",
    "We chose the MNIST dataset for this benchmark, excluding the digit *9* from the training data: *9* shall be considered the anomalous data."
   ]
  },
  {
   "cell_type": "code",
   "execution_count": 1,
   "metadata": {},
   "outputs": [],
   "source": [
    "import os\n",
    "\n",
    "import numpy as np\n",
    "np.random.seed(0)\n",
    "np.set_printoptions(suppress=True)\n",
    "\n",
    "from sklearn.ensemble import IsolationForest\n",
    "from sklearn.metrics import precision_recall_curve\n",
    "from sklearn.datasets import fetch_mldata\n",
    "from sklearn import metrics\n",
    "from sklearn.model_selection import train_test_split\n",
    "from sklearn import decomposition\n",
    "\n",
    "import pandas as pd\n",
    "\n",
    "import time\n",
    "import matplotlib.pyplot as plt\n",
    "\n",
    "%matplotlib inline"
   ]
  },
  {
   "cell_type": "code",
   "execution_count": 2,
   "metadata": {},
   "outputs": [],
   "source": [
    "mnist = fetch_mldata('MNIST original', data_home='.', )\n",
    "mnist.data = mnist.data.astype(np.float32)\n",
    "mu = np.mean(mnist.data)\n",
    "std = np.std(mnist.data)\n",
    "mnist.data = (mnist.data - mu) / std"
   ]
  },
  {
   "cell_type": "code",
   "execution_count": 3,
   "metadata": {},
   "outputs": [],
   "source": [
    "X_random = np.random.uniform(size=(500, 784))"
   ]
  },
  {
   "cell_type": "markdown",
   "metadata": {},
   "source": [
    "### 1. MNIST anomaly dataset"
   ]
  },
  {
   "cell_type": "code",
   "execution_count": 6,
   "metadata": {},
   "outputs": [],
   "source": [
    "nnominal = 4859\n",
    "nanomalies = 265\n",
    "fours = mnist.data[mnist.target == 4]\n",
    "rests = mnist.data[mnist.target != 4]\n",
    "idx = np.random.choice(range(fours.shape[0]), size=nnominal, replace=False)\n",
    "fours = fours[idx]\n",
    "idx = np.random.choice(range(rests.shape[0]), size=nanomalies, replace=False)\n",
    "rests = rests[idx]\n",
    "# X_train = np.concatenate([fours[:500], sevens[:10]])\n",
    "X_train = np.concatenate([fours, rests])\n",
    "Y_train = np.array([0] * nnominal + [1] * nanomalies)\n",
    "X_test, Y_test = X_train, Y_train\n",
    "# X_test = np.concatenate([fours[1000:], sevens[10:]])\n",
    "# Y_test = np.array([0] * ntest_normal + [1] * 80)"
   ]
  },
  {
   "cell_type": "markdown",
   "metadata": {},
   "source": [
    "### 7's and full MNIST\n",
    "\n",
    "Use 50% of training data exlcuding 7 for training and the rest for evaluation."
   ]
  },
  {
   "cell_type": "code",
   "execution_count": 4,
   "metadata": {},
   "outputs": [],
   "source": [
    "# X = mnist.data[mnist.target != 7]\n",
    "# Y = mnist.target[mnist.target != 7]\n",
    "# X_train, X_test, Y_train, Y_test = train_test_split(X, Y, test_size=.5)\n",
    "# X_anomalies_full = mnist.data[mnist.target == 7]\n",
    "\n",
    "# X_random = np.random.uniform(size=(10000, 784))"
   ]
  },
  {
   "cell_type": "markdown",
   "metadata": {},
   "source": [
    "Subsample the anomalies."
   ]
  },
  {
   "cell_type": "code",
   "execution_count": 4,
   "metadata": {},
   "outputs": [],
   "source": [
    "# rate = .05\n",
    "# size = np.min((int(rate * X_train.shape[0]), X_anomalies_full.shape[0]))\n",
    "# idx = np.random.choice(range(X_anomalies_full.shape[0]), size=size, replace=False)\n",
    "# X_anomalies = X_anomalies_full[idx]"
   ]
  },
  {
   "cell_type": "markdown",
   "metadata": {},
   "source": [
    "Some helper functions."
   ]
  },
  {
   "cell_type": "code",
   "execution_count": 11,
   "metadata": {},
   "outputs": [],
   "source": [
    "def calc_pr(scores, labels, plot=False):\n",
    "    \"\"\"\n",
    "    Given scores and labels, returns the precision, recall, thresholds and\n",
    "    area under the curve.\n",
    "    \n",
    "    Params:\n",
    "        scores      (1d-numpy array): low scores should represent anomalies.\n",
    "        labels      (1d-numpy array): same shape as `score`, `1` is for anonaly,\n",
    "                                      `0` for normal data.\n",
    "        plot                  (bool): if `True`, plots the precision-recall curve.\n",
    "    \n",
    "    Returns:\n",
    "        precision, recall, thresholds, area under the curve\n",
    "    \"\"\"\n",
    "    if scores.ndim != 1:\n",
    "        raise ValueError('`scores` has %i dimensions instead of 1.' % scores.ndim)\n",
    "    if not isinstance(scores, np.ndarray):\n",
    "        scores = np.array(scores)\n",
    "    if not isinstance(labels, np.ndarray):\n",
    "        labels = np.array(labels)\n",
    "    \n",
    "    idx = np.argsort(scores)\n",
    "    ascores = scores[idx]\n",
    "    alabels = labels[idx]\n",
    "    tps = np.cumsum(alabels).astype(np.float32)\n",
    "    fps = np.arange(tps.shape[0]) + 1. - tps\n",
    "    recall = tps / np.sum(alabels)\n",
    "    precision = np.divide(tps, tps + fps, out=np.zeros_like(tps), where=(tps + fps)!=0.)\n",
    "    auc = np.trapz(precision, recall)\n",
    "    \n",
    "    if plot:\n",
    "        plot_pr(precision, recall, auc)\n",
    "    return precision, recall, ascores, auc\n",
    "\n",
    "\n",
    "def plot_pr(precision, recall, auc=None):\n",
    "    plt.plot(recall, precision)\n",
    "    plt.ylim((0., 1.1))\n",
    "    plt.xlim((0., 1.1))\n",
    "    plt.ylabel('precision')\n",
    "    plt.xlabel('recall');\n",
    "    plt.title('Precision-Recall curve (AUC = %s)\\n' % ('%.3f' % auc if auc else 'N/A'), size=14)\n",
    "    plt.show"
   ]
  },
  {
   "cell_type": "markdown",
   "metadata": {},
   "source": [
    "## 1. Isolation Forest"
   ]
  },
  {
   "cell_type": "code",
   "execution_count": 6,
   "metadata": {},
   "outputs": [],
   "source": [
    "iforest = IsolationForest(contamination=.05, n_estimators=500,n_jobs=-1)\n",
    "iforest.fit(X_train)\n",
    "y_pred_test = iforest.decision_function(X_test)\n",
    "y_pred_random = iforest.decision_function(X_random)"
   ]
  },
  {
   "cell_type": "code",
   "execution_count": 8,
   "metadata": {},
   "outputs": [
    {
     "name": "stderr",
     "output_type": "stream",
     "text": [
      "/Users/bmyara/miniconda/envs/torch/lib/python3.6/site-packages/matplotlib/axes/_axes.py:6462: UserWarning: The 'normed' kwarg is deprecated, and has been replaced by the 'density' kwarg.\n",
      "  warnings.warn(\"The 'normed' kwarg is deprecated, and has been \"\n"
     ]
    },
    {
     "data": {
      "image/png": "[encoded data removed]",
      "text/plain": [
       "<Figure size 432x288 with 1 Axes>"
      ]
     },
     "metadata": {},
     "output_type": "display_data"
    }
   ],
   "source": [
    "plt.hist(y_pred_test[:nnominal], bins=50, normed=True, alpha=.5)\n",
    "plt.hist(y_pred_test[nnominal:], bins=50, color='red', normed=True, alpha=.5);\n",
    "plt.hist(y_pred_random, bins=50, color='y');"
   ]
  },
  {
   "cell_type": "code",
   "execution_count": 9,
   "metadata": {},
   "outputs": [
    {
     "data": {
      "image/png": "[encoded data removed]",
      "text/plain": [
       "<Figure size 432x288 with 1 Axes>"
      ]
     },
     "metadata": {},
     "output_type": "display_data"
    }
   ],
   "source": [
    "scores = y_pred_test\n",
    "labels = Y_test\n",
    "p, r, t, auc = calc_pr(scores, labels)\n",
    "plot_pr(p, r, auc)"
   ]
  },
  {
   "cell_type": "markdown",
   "metadata": {},
   "source": [
    "The results are pretty bad. Let's use PCA on the data beforehand."
   ]
  },
  {
   "cell_type": "code",
   "execution_count": 12,
   "metadata": {},
   "outputs": [
    {
     "name": "stdout",
     "output_type": "stream",
     "text": [
      "********************\n",
      " explained variance = 0.10 - n components = 1\n",
      "AUC = 0.043\n",
      "********************\n",
      " explained variance = 0.20 - n components = 2\n",
      "AUC = 0.040\n",
      "********************\n",
      " explained variance = 0.30 - n components = 4\n",
      "AUC = 0.042\n",
      "********************\n",
      " explained variance = 0.40 - n components = 6\n",
      "AUC = 0.042\n",
      "********************\n",
      " explained variance = 0.50 - n components = 9\n",
      "AUC = 0.080\n",
      "********************\n",
      " explained variance = 0.60 - n components = 13\n",
      "AUC = 0.083\n",
      "********************\n",
      " explained variance = 0.70 - n components = 22\n",
      "AUC = 0.282\n",
      "********************\n",
      " explained variance = 0.85 - n components = 52\n",
      "AUC = 0.554\n",
      "********************\n",
      " explained variance = 0.90 - n components = 79\n",
      "AUC = 0.608\n",
      "********************\n",
      " explained variance = 0.95 - n components = 139\n",
      "AUC = 0.569\n",
      "********************\n",
      " explained variance = 0.98 - n components = 229\n",
      "AUC = 0.540\n",
      "********************\n",
      " explained variance = 0.99 - n components = 294\n",
      "AUC = 0.512\n",
      "********************\n",
      " explained variance = 1.00 - n components = 583\n",
      "AUC = 0.341\n",
      "********************\n",
      " explained variance = 1.00 - n components = 784\n",
      "AUC = 0.338\n"
     ]
    }
   ],
   "source": [
    "varE = [.1, .2, .3, .4, .5, .6, .7, .85, .9, .95, .98, .99, .9999999, 1.]\n",
    "aucs = []\n",
    "ypredtests = []\n",
    "for v in varE:\n",
    "    \n",
    "    # (1) Dimensionality reduction\n",
    "    print('*' * 20)\n",
    "    pca = decomposition.PCA(v) if v != 1. else decomposition.PCA()\n",
    "    X_train_pca = pca.fit_transform(X_train)\n",
    "    print(' explained variance = %.2f - n components = %i' % (v, pca.n_components_))\n",
    "    \n",
    "    # Isolation Forest\n",
    "    iforest = IsolationForest(contamination=.0, n_jobs=-1, n_estimators=500)\n",
    "    iforest.fit(X_train_pca)\n",
    "    X_test_pca = pca.transform(X_test)\n",
    "    y_pred_test = iforest.decision_function(X_test_pca)\n",
    "    scores = y_pred_test\n",
    "    labels = Y_test\n",
    "    ypredtests.append(y_pred_test)\n",
    "\n",
    "    p, r, t, auc = calc_pr(scores, labels)\n",
    "    aucs.append(auc)\n",
    "    print('AUC = %.3f' % auc)\n",
    "\n",
    "y_pred_test = ypredtests[np.argmax(aucs)]\n",
    "auc = aucs[np.argmax(aucs)]"
   ]
  },
  {
   "cell_type": "code",
   "execution_count": 13,
   "metadata": {},
   "outputs": [
    {
     "data": {
      "image/png": "[encoded data removed]",
      "text/plain": [
       "<Figure size 432x288 with 1 Axes>"
      ]
     },
     "metadata": {},
     "output_type": "display_data"
    }
   ],
   "source": [
    "plt.plot(varE, aucs)\n",
    "plt.title('Area under the PR-curve')\n",
    "plt.xlabel('Variance explained')\n",
    "plt.ylabel('AUC');"
   ]
  },
  {
   "cell_type": "code",
   "execution_count": 22,
   "metadata": {},
   "outputs": [
    {
     "name": "stderr",
     "output_type": "stream",
     "text": [
      "/Users/bmyara/miniconda/envs/torch/lib/python3.6/site-packages/matplotlib/axes/_axes.py:6462: UserWarning: The 'normed' kwarg is deprecated, and has been replaced by the 'density' kwarg.\n",
      "  warnings.warn(\"The 'normed' kwarg is deprecated, and has been \"\n"
     ]
    },
    {
     "data": {
      "image/png": "[encoded data removed]",
      "text/plain": [
       "<Figure size 432x288 with 1 Axes>"
      ]
     },
     "metadata": {},
     "output_type": "display_data"
    }
   ],
   "source": [
    "plt.hist(y_pred_test[:nnominal], bins=50, normed=True, alpha=.5);\n",
    "plt.hist(y_pred_test[nnominal:], bins=50, color='red', normed=True, alpha=.5);"
   ]
  },
  {
   "cell_type": "code",
   "execution_count": 23,
   "metadata": {},
   "outputs": [
    {
     "data": {
      "image/png": "[encoded data removed]",
      "text/plain": [
       "<Figure size 432x288 with 1 Axes>"
      ]
     },
     "metadata": {},
     "output_type": "display_data"
    }
   ],
   "source": [
    "plot_pr(p, r, auc)"
   ]
  },
  {
   "cell_type": "markdown",
   "metadata": {},
   "source": [
    "## 2. Local Outlier Factor"
   ]
  },
  {
   "cell_type": "code",
   "execution_count": 121,
   "metadata": {},
   "outputs": [],
   "source": [
    "from sklearn.neighbors import LocalOutlierFactor"
   ]
  },
  {
   "cell_type": "code",
   "execution_count": 25,
   "metadata": {},
   "outputs": [],
   "source": [
    "pca = decomposition.PCA(.8)\n",
    "X_pca = pca.fit_transform(X_train)\n",
    "Xt_pca = pca.transform(X_test)"
   ]
  },
  {
   "cell_type": "code",
   "execution_count": 29,
   "metadata": {},
   "outputs": [],
   "source": [
    "lof = LocalOutlierFactor(contamination=0.001)\n",
    "lof.fit(X_pca)\n",
    "X_lof = lof._decision_function(Xt_pca)"
   ]
  },
  {
   "cell_type": "code",
   "execution_count": 30,
   "metadata": {},
   "outputs": [
    {
     "name": "stderr",
     "output_type": "stream",
     "text": [
      "/Users/bmyara/miniconda/envs/torch/lib/python3.6/site-packages/matplotlib/axes/_axes.py:6462: UserWarning: The 'normed' kwarg is deprecated, and has been replaced by the 'density' kwarg.\n",
      "  warnings.warn(\"The 'normed' kwarg is deprecated, and has been \"\n"
     ]
    },
    {
     "data": {
      "image/png": "[encoded data removed]",
      "text/plain": [
       "<Figure size 432x288 with 1 Axes>"
      ]
     },
     "metadata": {},
     "output_type": "display_data"
    }
   ],
   "source": [
    "plt.hist(X_lof[:nnominal], bins=50, alpha=.5, normed=True);\n",
    "plt.hist(X_lof[nnominal:], bins=50, color='red', alpha=.5, normed=True);"
   ]
  },
  {
   "cell_type": "code",
   "execution_count": 32,
   "metadata": {},
   "outputs": [
    {
     "name": "stdout",
     "output_type": "stream",
     "text": [
      "********************\n",
      " explained variance = 0.10 - n components = 1\n",
      "AUC = 0.053\n",
      "********************\n",
      " explained variance = 0.20 - n components = 2\n",
      "AUC = 0.044\n",
      "********************\n",
      " explained variance = 0.30 - n components = 4\n",
      "AUC = 0.058\n",
      "********************\n",
      " explained variance = 0.40 - n components = 6\n",
      "AUC = 0.078\n",
      "********************\n",
      " explained variance = 0.50 - n components = 9\n",
      "AUC = 0.108\n",
      "********************\n",
      " explained variance = 0.60 - n components = 13\n",
      "AUC = 0.165\n",
      "********************\n",
      " explained variance = 0.70 - n components = 22\n",
      "AUC = 0.190\n",
      "********************\n",
      " explained variance = 0.80 - n components = 37\n",
      "AUC = 0.298\n",
      "********************\n",
      " explained variance = 0.82 - n components = 43\n",
      "AUC = 0.314\n",
      "********************\n",
      " explained variance = 0.85 - n components = 52\n",
      "AUC = 0.371\n",
      "********************\n",
      " explained variance = 0.90 - n components = 79\n",
      "AUC = 0.436\n",
      "********************\n",
      " explained variance = 0.95 - n components = 139\n",
      "AUC = 0.474\n",
      "********************\n",
      " explained variance = 0.99 - n components = 294\n",
      "AUC = 0.511\n",
      "********************\n",
      " explained variance = 1.00 - n components = 784\n",
      "AUC = 0.529\n"
     ]
    }
   ],
   "source": [
    "varE = [.1, .2, .3, .4, .5, .6, .7, .8, .82, .85, .9, .95, .99, 1.]\n",
    "aucs = []\n",
    "ypredtests = []\n",
    "for v in varE:\n",
    "    \n",
    "    # (1) Dimensionality reduction\n",
    "    print('*' * 20)\n",
    "    pca = decomposition.PCA(v) if v != 1. else decomposition.PCA()\n",
    "    X_train_pca = pca.fit_transform(X_train)\n",
    "    print(' explained variance = %.2f - n components = %i' % (v, pca.n_components_))\n",
    "    \n",
    "    # Isolation Forest\n",
    "    localOut = LocalOutlierFactor(contamination=.001)\n",
    "    localOut.fit(X_train_pca)\n",
    "    X_test_pca = pca.transform(X_test)\n",
    "    y_pred_test = localOut._decision_function(X_test_pca)\n",
    "    ypredtests.append(y_pred_test)\n",
    "    \n",
    "    scores = y_pred_test\n",
    "    labels = Y_test\n",
    "\n",
    "    p, r, t, auc = calc_pr(scores, labels)\n",
    "    aucs.append(auc)\n",
    "    print('AUC = %.3f' % auc)\n",
    "    \n",
    "y_pred_test = ypredtests[np.argmax(aucs)]\n",
    "auc = aucs[np.argmax(aucs)]"
   ]
  },
  {
   "cell_type": "code",
   "execution_count": 33,
   "metadata": {},
   "outputs": [
    {
     "data": {
      "image/png": "[encoded data removed]",
      "text/plain": [
       "<Figure size 432x288 with 1 Axes>"
      ]
     },
     "metadata": {},
     "output_type": "display_data"
    }
   ],
   "source": [
    "plt.plot(varE, aucs)\n",
    "plt.title('Area under the PR-curve')\n",
    "plt.xlabel('Variance explained')\n",
    "plt.ylabel('AUC');"
   ]
  },
  {
   "cell_type": "code",
   "execution_count": 34,
   "metadata": {},
   "outputs": [
    {
     "name": "stderr",
     "output_type": "stream",
     "text": [
      "/Users/bmyara/miniconda/envs/torch/lib/python3.6/site-packages/matplotlib/axes/_axes.py:6462: UserWarning: The 'normed' kwarg is deprecated, and has been replaced by the 'density' kwarg.\n",
      "  warnings.warn(\"The 'normed' kwarg is deprecated, and has been \"\n"
     ]
    },
    {
     "data": {
      "image/png": "[encoded data removed]",
      "text/plain": [
       "<Figure size 432x288 with 1 Axes>"
      ]
     },
     "metadata": {},
     "output_type": "display_data"
    }
   ],
   "source": [
    "# plt.hist(y_pred_test, bins=50, normed=True, alpha=.5);\n",
    "# plt.hist(y_pred_anomalies, bins=50, color='red', normed=True, alpha=.5);\n",
    "plt.hist(X_lof[:nnominal], bins=50, alpha=.5, normed=True);\n",
    "plt.hist(X_lof[nnominal:], bins=50, color='red', alpha=.5, normed=True);"
   ]
  },
  {
   "cell_type": "code",
   "execution_count": 35,
   "metadata": {},
   "outputs": [
    {
     "data": {
      "image/png": "[encoded data removed]",
      "text/plain": [
       "<Figure size 432x288 with 1 Axes>"
      ]
     },
     "metadata": {},
     "output_type": "display_data"
    }
   ],
   "source": [
    "p, r, t, auc = calc_pr(scores, labels, plot=True)"
   ]
  },
  {
   "cell_type": "markdown",
   "metadata": {},
   "source": [
    "## 3. One-class SVM"
   ]
  },
  {
   "cell_type": "code",
   "execution_count": 36,
   "metadata": {},
   "outputs": [],
   "source": [
    "from sklearn.svm import OneClassSVM"
   ]
  },
  {
   "cell_type": "code",
   "execution_count": 37,
   "metadata": {},
   "outputs": [
    {
     "data": {
      "text/plain": [
       "OneClassSVM(cache_size=200, coef0=0.0, degree=3, gamma='auto', kernel='rbf',\n",
       "      max_iter=-1, nu=0.5, random_state=None, shrinking=True, tol=0.001,\n",
       "      verbose=False)"
      ]
     },
     "execution_count": 37,
     "metadata": {},
     "output_type": "execute_result"
    }
   ],
   "source": [
    "svm = OneClassSVM()\n",
    "pca = decomposition.PCA(.5)\n",
    "X_pca = pca.fit_transform(X_train)\n",
    "Xt_pca = pca.transform(X_test)\n",
    "R_pca = pca.transform(X_random)\n",
    "\n",
    "svm.fit(X_pca)"
   ]
  },
  {
   "cell_type": "code",
   "execution_count": 38,
   "metadata": {},
   "outputs": [],
   "source": [
    "Xt_svm = svm.decision_function(Xt_pca)\n",
    "R_svm = svm.decision_function(R_pca)"
   ]
  },
  {
   "cell_type": "code",
   "execution_count": 40,
   "metadata": {},
   "outputs": [
    {
     "name": "stderr",
     "output_type": "stream",
     "text": [
      "/Users/bmyara/miniconda/envs/torch/lib/python3.6/site-packages/matplotlib/axes/_axes.py:6462: UserWarning: The 'normed' kwarg is deprecated, and has been replaced by the 'density' kwarg.\n",
      "  warnings.warn(\"The 'normed' kwarg is deprecated, and has been \"\n"
     ]
    },
    {
     "data": {
      "image/png": "[encoded data removed]",
      "text/plain": [
       "<Figure size 432x288 with 1 Axes>"
      ]
     },
     "metadata": {},
     "output_type": "display_data"
    }
   ],
   "source": [
    "normed = True\n",
    "plt.hist(Xt_svm[:nnominal], bins=50, normed=normed, alpha=.5);\n",
    "plt.hist(Xt_svm[nnominal:], bins=50, normed=normed, color='red', alpha=.5);"
   ]
  },
  {
   "cell_type": "code",
   "execution_count": 41,
   "metadata": {},
   "outputs": [
    {
     "data": {
      "image/png": "[encoded data removed]",
      "text/plain": [
       "<Figure size 432x288 with 1 Axes>"
      ]
     },
     "metadata": {},
     "output_type": "display_data"
    }
   ],
   "source": [
    "scores = Xt_svm[:, 0]\n",
    "labels = Y_test\n",
    "p, r, t, auc = calc_pr(scores, labels)\n",
    "plot_pr(p, r, auc)"
   ]
  },
  {
   "cell_type": "code",
   "execution_count": 42,
   "metadata": {},
   "outputs": [
    {
     "name": "stdout",
     "output_type": "stream",
     "text": [
      "********************\n",
      " explained variance = 0.10 - n components = 1\n",
      "AUC = 0.049\n",
      "********************\n",
      " explained variance = 0.20 - n components = 2\n",
      "AUC = 0.049\n",
      "********************\n",
      " explained variance = 0.30 - n components = 4\n",
      "AUC = 0.051\n",
      "********************\n",
      " explained variance = 0.40 - n components = 6\n",
      "AUC = 0.055\n",
      "********************\n",
      " explained variance = 0.50 - n components = 9\n",
      "AUC = 0.041\n",
      "********************\n",
      " explained variance = 0.60 - n components = 13\n",
      "AUC = 0.049\n",
      "********************\n",
      " explained variance = 0.70 - n components = 22\n",
      "AUC = 0.044\n",
      "********************\n",
      " explained variance = 0.80 - n components = 37\n",
      "AUC = 0.059\n",
      "********************\n",
      " explained variance = 0.85 - n components = 52\n",
      "AUC = 0.055\n",
      "********************\n",
      " explained variance = 0.90 - n components = 79\n",
      "AUC = 0.057\n",
      "********************\n",
      " explained variance = 0.95 - n components = 139\n",
      "AUC = 0.135\n",
      "********************\n",
      " explained variance = 0.99 - n components = 294\n",
      "AUC = 0.264\n",
      "********************\n",
      " explained variance = 1.00 - n components = 784\n",
      "AUC = 0.329\n"
     ]
    }
   ],
   "source": [
    "varE = [.1, .2, .3, .4, .5, .6, .7, .8, .85, .9, .95, .99, 1.]\n",
    "aucs = []\n",
    "ypredtests = []\n",
    "for v in varE:\n",
    "    \n",
    "    # (1) Dimensionality reduction\n",
    "    print('*' * 20)\n",
    "    pca = decomposition.PCA(v) if v != 1. else decomposition.PCA()\n",
    "    X_train_pca = pca.fit_transform(X_train)\n",
    "    print(' explained variance = %.2f - n components = %i' % (v, pca.n_components_))\n",
    "    #X_train_pca = pca.transform(X_train)\n",
    "    \n",
    "    # Isolation Forest\n",
    "    svm = OneClassSVM(nu=.01)\n",
    "    svm.fit(X_train_pca)\n",
    "    X_test_pca = pca.transform(X_test)\n",
    "\n",
    "    y_pred_test = svm.decision_function(X_test_pca)\n",
    "    ypredtests.append(y_pred_test)\n",
    "    scores = y_pred_test[:, 0]\n",
    "    labels = Y_test\n",
    "\n",
    "    p, r, t, auc = calc_pr(scores, labels)\n",
    "    aucs.append(auc)\n",
    "    print('AUC = %.3f' % auc)\n",
    "\n",
    "y_pred_test = ypredtests[np.argmax(aucs)]\n",
    "auc = aucs[np.argmax(aucs)]"
   ]
  },
  {
   "cell_type": "code",
   "execution_count": 43,
   "metadata": {},
   "outputs": [
    {
     "data": {
      "image/png": "[encoded data removed]",
      "text/plain": [
       "<Figure size 432x288 with 1 Axes>"
      ]
     },
     "metadata": {},
     "output_type": "display_data"
    }
   ],
   "source": [
    "plt.plot(varE, aucs)\n",
    "plt.title('Area under the PR-curve')\n",
    "plt.xlabel('Variance explained')\n",
    "plt.ylabel('AUC');"
   ]
  },
  {
   "cell_type": "code",
   "execution_count": 44,
   "metadata": {},
   "outputs": [
    {
     "name": "stderr",
     "output_type": "stream",
     "text": [
      "/Users/bmyara/miniconda/envs/torch/lib/python3.6/site-packages/matplotlib/axes/_axes.py:6462: UserWarning: The 'normed' kwarg is deprecated, and has been replaced by the 'density' kwarg.\n",
      "  warnings.warn(\"The 'normed' kwarg is deprecated, and has been \"\n"
     ]
    },
    {
     "data": {
      "image/png": "[encoded data removed]",
      "text/plain": [
       "<Figure size 432x288 with 1 Axes>"
      ]
     },
     "metadata": {},
     "output_type": "display_data"
    }
   ],
   "source": [
    "plt.hist(X_lof[:nnominal], bins=50, alpha=.5, normed=True);\n",
    "plt.hist(X_lof[nnominal:], bins=50, color='red', alpha=.5, normed=True);"
   ]
  },
  {
   "cell_type": "code",
   "execution_count": 45,
   "metadata": {},
   "outputs": [
    {
     "data": {
      "image/png": "[encoded data removed]",
      "text/plain": [
       "<Figure size 432x288 with 1 Axes>"
      ]
     },
     "metadata": {},
     "output_type": "display_data"
    }
   ],
   "source": [
    "p, r, t, auc = calc_pr(scores, labels, plot=True)"
   ]
  },
  {
   "cell_type": "markdown",
   "metadata": {},
   "source": [
    "## 4. Autoencoder"
   ]
  },
  {
   "cell_type": "code",
   "execution_count": 4,
   "metadata": {},
   "outputs": [
    {
     "name": "stdout",
     "output_type": "stream",
     "text": [
      "Training on CPU\n"
     ]
    }
   ],
   "source": [
    "import torch\n",
    "import torch.nn as nn\n",
    "from torch.autograd import Variable\n",
    "import torch.nn.functional as F\n",
    "from torch import optim\n",
    "from utils import progress, count_parameters, visualize, get_batch\n",
    "\n",
    "cuda = torch.cuda.is_available() # True if cuda is available, False otherwise\n",
    "FloatTensor = torch.cuda.FloatTensor if cuda else torch.FloatTensor\n",
    "LongTensor = torch.cuda.LongTensor if cuda else torch.LongTensor\n",
    "print('Training on %s' % ('GPU' if cuda else 'CPU'))"
   ]
  },
  {
   "cell_type": "code",
   "execution_count": 7,
   "metadata": {},
   "outputs": [],
   "source": [
    "X_train_ae = (X_train * std + mu) / 255.\n",
    "X_test_ae = X_train_ae"
   ]
  },
  {
   "cell_type": "code",
   "execution_count": 8,
   "metadata": {},
   "outputs": [],
   "source": [
    "def tonumpy(x):\n",
    "    return x.data.cpu().numpy()\n",
    "\n",
    "\n",
    "# def evaluate(net, data, shape, norm='fro'):\n",
    "#     shape = tuple([-1] + shape)\n",
    "#     output = []\n",
    "#     for j, x in enumerate(get_batch(data, batch_size, allow_smaller_batch=True)):\n",
    "#         x_ = Variable(torch.from_numpy(x).type(FloatTensor))\n",
    "#         x_ = x_.view(shape)\n",
    "#         x_tilda = net(x_).data.cpu().numpy().reshape((-1, np.prod(shape[1:])))\n",
    "#         output.append(np.linalg.norm(x.reshape(-1, np.prod(shape[1:])) - x_tilda, axis=1, ord=norm))\n",
    "#     return np.concatenate(output)\n",
    "\n",
    "def l1norm(data, net):\n",
    "    x = Variable(torch.from_numpy(data).type(FloatTensor))\n",
    "    x_tilda = net(x).cpu().data.numpy()\n",
    "    x = x.cpu().data.numpy()\n",
    "    return np.sum(np.abs((x - x_tilda)), axis=1)"
   ]
  },
  {
   "cell_type": "code",
   "execution_count": 99,
   "metadata": {},
   "outputs": [
    {
     "name": "stdout",
     "output_type": "stream",
     "text": [
      "327,761 parameters\n",
      "327,761 trainable parameters\n"
     ]
    }
   ],
   "source": [
    "n_dim = 28*28\n",
    "z = 49\n",
    "net2 = nn.Sequential(\n",
    "                # Encoder\n",
    "                nn.Linear(n_dim, 196),\n",
    "                nn.ReLU(),\n",
    "                nn.Linear(196, z),\n",
    "                nn.ReLU(),\n",
    "\n",
    "                # Decoder\n",
    "                nn.Linear(z, 196),\n",
    "                nn.ReLU(),\n",
    "                nn.Linear(196, n_dim)).type(FloatTensor)\n",
    "\n",
    "count_parameters(net2)\n",
    "optimizer = torch.optim.Adamax(params=net2.parameters(), lr=0.01)"
   ]
  },
  {
   "cell_type": "code",
   "execution_count": 488,
   "metadata": {},
   "outputs": [],
   "source": [
    "# z = 1 # default=8\n",
    "# net2  = nn.Sequential(\n",
    "#                 # Encoder\n",
    "#                 nn.Conv2d(1, 32, 3, padding=1), # input (1, 28, 28), output (32, 28, 28)\n",
    "#                 nn.PReLU(32),\n",
    "#                 nn.BatchNorm2d(32),\n",
    "#                 nn.MaxPool2d(2), # (32, 14, 14)\n",
    "#                 nn.Conv2d(32, 64, 3), # (64, 12, 12)\n",
    "#                 nn.PReLU(64),\n",
    "#                 nn.BatchNorm2d(64),\n",
    "#                 nn.MaxPool2d(2), # (64, 6, 6))\n",
    "                \n",
    "#                 # Low-dimensional representation\n",
    "#                 nn.Conv2d(64, z, 3), # (8, 4, 4) -- latent representation\n",
    "#                 nn.PReLU(z),\n",
    "#                 nn.BatchNorm2d(z),\n",
    "                \n",
    "#                 # Decoder\n",
    "#                 nn.Conv2d(z, 64, 3, padding=2), # (64, 6, 6)\n",
    "#                 nn.Upsample(scale_factor=2), # (64, 12, 12)\n",
    "#                 nn.Conv2d(64, 32, 3, padding=2), # (32, 14, 14)\n",
    "#                 nn.PReLU(32),\n",
    "#                 nn.Upsample(scale_factor=2), # (32, 28, 28)\n",
    "#                 nn.Conv2d(32, 1, 3, padding=1),\n",
    "#                 nn.Sigmoid()).type(FloatTensor).type(FloatTensor)\n",
    "# count_parameters(net2)\n",
    "# optimizer = torch.optim.Adam(params=net2.parameters(), lr=0.01)"
   ]
  },
  {
   "cell_type": "code",
   "execution_count": 100,
   "metadata": {},
   "outputs": [
    {
     "name": "stdout",
     "output_type": "stream",
     "text": [
      "[ 1/30][==================================================] 100% – loss 29.61706 -    1s [3076 fps]\n",
      "\u001b[31m1.487 - auc = 0.532\u001b[0m\n",
      "[ 2/30][==================================================] 100% – loss 23.43742 -    1s [3313 fps]\n",
      "\u001b[31m1.571 - auc = 0.622\u001b[0m\n",
      "[ 3/30][==================================================] 100% – loss 21.81891 -    1s [3057 fps]\n",
      "\u001b[31m1.565 - auc = 0.617\u001b[0m\n",
      "[ 4/30][==================================================] 100% – loss 21.04042 -    1s [2891 fps]\n",
      "\u001b[31m1.581 - auc = 0.618\u001b[0m\n",
      "[ 5/30][==================================================] 100% – loss 20.54423 -    2s [1736 fps]\n",
      "\u001b[31m1.584 - auc = 0.602\u001b[0m\n",
      "[ 6/30][==================================================] 100% – loss 20.19492 -    3s [1354 fps]\n",
      "\u001b[31m1.601 - auc = 0.628\u001b[0m\n",
      "[ 7/30][==================================================] 100% – loss 19.90536 -    3s [1413 fps]\n",
      "\u001b[31m1.600 - auc = 0.622\u001b[0m\n",
      "[ 8/30][==================================================] 100% – loss 19.74207 -    3s [1487 fps]\n",
      "\u001b[31m1.602 - auc = 0.621\u001b[0m\n",
      "[ 9/30][==================================================] 100% – loss 19.49167 -    3s [1487 fps]\n",
      "\u001b[31m1.597 - auc = 0.626\u001b[0m\n",
      "[10/30][==================================================] 100% – loss 19.37474 -    3s [1636 fps]\n",
      "\u001b[31m1.619 - auc = 0.635\u001b[0m\n",
      "[11/30][==================================================] 100% – loss 19.19514 -    3s [1460 fps]\n",
      "\u001b[31m1.564 - auc = 0.599\u001b[0m\n",
      "[12/30][==================================================] 100% – loss 19.08814 -    3s [1529 fps]\n",
      "\u001b[31m1.608 - auc = 0.618\u001b[0m\n",
      "[13/30][==================================================] 100% – loss 18.98316 -    3s [1524 fps]\n",
      "\u001b[31m1.612 - auc = 0.630\u001b[0m\n",
      "[14/30][==================================================] 100% – loss 18.90302 -    3s [1610 fps]\n",
      "\u001b[31m1.614 - auc = 0.628\u001b[0m\n",
      "[15/30][==================================================] 100% – loss 18.79120 -    2s [1712 fps]\n",
      "\u001b[31m1.612 - auc = 0.629\u001b[0m\n",
      "[16/30][==================================================] 100% – loss 18.70009 -    2s [1775 fps]\n",
      "\u001b[31m1.626 - auc = 0.635\u001b[0m\n",
      "[17/30][==================================================] 100% – loss 18.60822 -    3s [1677 fps]\n",
      "\u001b[31m1.619 - auc = 0.625\u001b[0m\n",
      "[18/30][==================================================] 100% – loss 18.52558 -    3s [1698 fps]\n",
      "\u001b[31m1.621 - auc = 0.628\u001b[0m\n",
      "[19/30][==================================================] 100% – loss 18.50129 -    2s [1776 fps]\n",
      "\u001b[31m1.613 - auc = 0.629\u001b[0m\n",
      "[20/30][==================================================] 100% – loss 18.41109 -    2s [1756 fps]\n",
      "\u001b[31m1.617 - auc = 0.623\u001b[0m\n",
      "[21/30][==================================================] 100% – loss 18.31386 -    3s [1676 fps]\n",
      "\u001b[31m1.611 - auc = 0.641\u001b[0m\n",
      "[22/30][==================================================] 100% – loss 17.84171 -    3s [1707 fps]\n",
      "\u001b[31m1.666 - auc = 0.645\u001b[0m\n",
      "[23/30][==================================================] 100% – loss 17.77402 -    3s [1697 fps]\n",
      "\u001b[31m1.671 - auc = 0.652\u001b[0m\n",
      "[24/30][==================================================] 100% – loss 17.69481 -    2s [1758 fps]\n",
      "\u001b[31m1.653 - auc = 0.653\u001b[0m\n",
      "[25/30][==================================================] 100% – loss 17.66649 -    3s [1657 fps]\n",
      "\u001b[31m1.654 - auc = 0.635\u001b[0m\n",
      "[26/30][==================================================] 100% – loss 17.61368 -    2s [1712 fps]\n",
      "\u001b[31m1.651 - auc = 0.642\u001b[0m\n",
      "[27/30][==================================================] 100% – loss 17.54663 -    2s [1743 fps]\n",
      "\u001b[31m1.645 - auc = 0.639\u001b[0m\n",
      "[28/30][==================================================] 100% – loss 17.48393 -    3s [1637 fps]\n",
      "\u001b[31m1.653 - auc = 0.649\u001b[0m\n",
      "[29/30][==================================================] 100% – loss 17.43996 -    3s [1630 fps]\n",
      "\u001b[31m1.646 - auc = 0.640\u001b[0m\n",
      "[30/30][==================================================] 100% – loss 17.40117 -    3s [1700 fps]\n",
      "\u001b[31m1.645 - auc = 0.639\u001b[0m\n"
     ]
    }
   ],
   "source": [
    "max_epochs = 30\n",
    "batch_size = 32\n",
    "N = X_train.shape[0]\n",
    "ypredtests = []\n",
    "aucs = []\n",
    "for i in range(max_epochs):\n",
    "    loss_agg = []\n",
    "    start = time.time()\n",
    "    net2.train()\n",
    "    for j, x in enumerate(get_batch(X_train_ae, batch_size, allow_smaller_batch=True)):\n",
    "        x = Variable(torch.from_numpy(x).type(FloatTensor))\n",
    "        x = x.view(x.size(0), -1)\n",
    "        #x = x.view((-1, 1, 28, 28))\n",
    "        net2.zero_grad()\n",
    "        x_ = net2(x)\n",
    "        loss = torch.dist(x, x_) \n",
    "        loss.backward()\n",
    "        optimizer.step()\n",
    "        loss_agg.append(loss.data.cpu().numpy())\n",
    "        progress(loss_agg, i + 1, max_epochs, j + 1, batch_size, N, start, net2, mnist.data[:55000], in_size=[28*28])\n",
    "    else:\n",
    "        if i % 20 == 0 and i != 0:\n",
    "            optimizer.param_groups[0]['lr'] /= 2.\n",
    "            \n",
    "        net2.eval()\n",
    "        y_pred_test = l1norm(X_test_ae, net2)\n",
    "        mean_normal = np.mean(y_pred_test[:nnominal])\n",
    "        mean_anomaly = np.mean(y_pred_test[nnominal:])\n",
    "\n",
    "        scores = -y_pred_test\n",
    "        labels = Y_test\n",
    "\n",
    "        p, r, t, auc = calc_pr(scores, labels)\n",
    "        aucs.append(auc)\n",
    "        ypredtests.append(y_pred_test)\n",
    "        print('\\x1b[31m%.3f - auc = %.3f\\x1b[0m' % (mean_anomaly / mean_normal, auc))\n",
    "        \n",
    "y_pred_test = ypredtests[np.argmax(aucs)]\n",
    "auc = aucs[np.argmax(aucs)]"
   ]
  },
  {
   "cell_type": "code",
   "execution_count": 14,
   "metadata": {},
   "outputs": [
    {
     "data": {
      "image/png": "[encoded data removed]",
      "text/plain": [
       "<Figure size 432x432 with 20 Axes>"
      ]
     },
     "metadata": {},
     "output_type": "display_data"
    }
   ],
   "source": [
    "net2.eval()\n",
    "visualize(net2, X_test[nnominal - 200:], in_size=[28*28], dtype=FloatTensor)"
   ]
  },
  {
   "cell_type": "code",
   "execution_count": 101,
   "metadata": {},
   "outputs": [
    {
     "name": "stdout",
     "output_type": "stream",
     "text": [
      "mean normal: 41.388\n",
      "mean anomaly: 68.403\n",
      "mean random: 336.478\n",
      "ratio: 1.653\n"
     ]
    }
   ],
   "source": [
    "# shape = [1, 28, 28]\n",
    "shape = [n_dim]\n",
    "norm = None\n",
    "net2.eval()\n",
    "#y_pred_test = l1norm(X_test_ae, net2)\n",
    "y_pred_test = ypredtests[np.argmax(aucs)]\n",
    "y_pred_rand = l1norm(X_random, net2)\n",
    "\n",
    "\n",
    "mean_normal = np.mean(y_pred_test[:nnominal])\n",
    "mean_anomaly = np.mean(y_pred_test[nnominal:])\n",
    "mean_random = np.mean(y_pred_rand)\n",
    "\n",
    "# mean_anomaly = np.mean(y_pred_anomalies)\n",
    "print('mean normal: %.3f\\nmean anomaly: %.3f\\nmean random: %.3f\\nratio: %.3f' % (mean_normal, mean_anomaly, mean_random, mean_anomaly / mean_normal))"
   ]
  },
  {
   "cell_type": "code",
   "execution_count": 102,
   "metadata": {},
   "outputs": [
    {
     "data": {
      "image/png": "[encoded data removed]",
      "text/plain": [
       "<Figure size 432x288 with 1 Axes>"
      ]
     },
     "metadata": {},
     "output_type": "display_data"
    }
   ],
   "source": [
    "scores = -y_pred_test\n",
    "labels = Y_test\n",
    "p, r, t, auc = calc_pr(scores, labels, plot=True)"
   ]
  },
  {
   "cell_type": "code",
   "execution_count": 17,
   "metadata": {},
   "outputs": [
    {
     "name": "stderr",
     "output_type": "stream",
     "text": [
      "/Users/bmyara/miniconda3/envs/torch/lib/python3.6/site-packages/matplotlib/axes/_axes.py:6462: UserWarning: The 'normed' kwarg is deprecated, and has been replaced by the 'density' kwarg.\n",
      "  warnings.warn(\"The 'normed' kwarg is deprecated, and has been \"\n"
     ]
    },
    {
     "data": {
      "image/png": "[encoded data removed]",
      "text/plain": [
       "<Figure size 432x288 with 1 Axes>"
      ]
     },
     "metadata": {},
     "output_type": "display_data"
    }
   ],
   "source": [
    "plt.hist(y_pred_test[:nnominal], bins=50, normed=True, alpha=.5);\n",
    "plt.hist(y_pred_test[nnominal:], bins=50, color='red', normed=True, alpha=.5);"
   ]
  },
  {
   "cell_type": "markdown",
   "metadata": {},
   "source": [
    "Denoising Autoencoder."
   ]
  },
  {
   "cell_type": "code",
   "execution_count": 64,
   "metadata": {},
   "outputs": [
    {
     "name": "stdout",
     "output_type": "stream",
     "text": [
      "328,251 parameters\n",
      "328,251 trainable parameters\n"
     ]
    }
   ],
   "source": [
    "n_dim = 28*28\n",
    "z = 49\n",
    "net2 = nn.Sequential(\n",
    "                # Encoder\n",
    "                nn.Linear(n_dim, 196),\n",
    "                nn.ReLU(),\n",
    "                #nn.BatchNorm1d(196),\n",
    "                nn.Linear(196, z),\n",
    "                nn.ReLU(),\n",
    "                nn.BatchNorm1d(z),\n",
    "\n",
    "                # Decoder\n",
    "                nn.Linear(z, 196),\n",
    "                nn.ReLU(),\n",
    "                nn.BatchNorm1d(196),\n",
    "                nn.Linear(196, n_dim)).type(FloatTensor)\n",
    "\n",
    "count_parameters(net2)\n",
    "optimizer = torch.optim.Adamax(params=net2.parameters(), lr=0.01)"
   ]
  },
  {
   "cell_type": "code",
   "execution_count": 65,
   "metadata": {},
   "outputs": [
    {
     "name": "stdout",
     "output_type": "stream",
     "text": [
      "[ 1/20][==================================================] 100% – loss 29.07031 -    2s [2538 fps]\n",
      "\u001b[31m1.467 - auc = 0.581\u001b[0m\n",
      "[ 2/20][==================================================] 100% – loss 23.20547 -    2s [2321 fps]\n",
      "\u001b[31m1.553 - auc = 0.621\u001b[0m\n",
      "[ 3/20][==================================================] 100% – loss 21.61003 -    2s [2504 fps]\n",
      "\u001b[31m1.526 - auc = 0.558\u001b[0m\n",
      "[ 4/20][==================================================] 100% – loss 20.80606 -    2s [2373 fps]\n",
      "\u001b[31m1.587 - auc = 0.621\u001b[0m\n",
      "[ 5/20][==================================================] 100% – loss 20.27963 -    2s [2244 fps]\n",
      "\u001b[31m1.563 - auc = 0.608\u001b[0m\n",
      "[ 6/20][==================================================] 100% – loss 19.95747 -    2s [2073 fps]\n",
      "\u001b[31m1.610 - auc = 0.635\u001b[0m\n",
      "[ 7/20][==================================================] 100% – loss 19.66057 -    2s [2184 fps]\n",
      "\u001b[31m1.868 - auc = 0.638\u001b[0m\n",
      "[ 8/20][==================================================] 100% – loss 19.45813 -    2s [2191 fps]\n",
      "\u001b[31m1.608 - auc = 0.568\u001b[0m\n",
      "[ 9/20][==================================================] 100% – loss 19.21544 -    2s [2162 fps]\n",
      "\u001b[31m1.703 - auc = 0.626\u001b[0m\n",
      "[10/20][==================================================] 100% – loss 19.13777 -    2s [2146 fps]\n",
      "\u001b[31m1.614 - auc = 0.616\u001b[0m\n",
      "[11/20][==================================================] 100% – loss 19.03464 -    2s [2141 fps]\n",
      "\u001b[31m1.582 - auc = 0.582\u001b[0m\n",
      "[12/20][==================================================] 100% – loss 18.87154 -    2s [2154 fps]\n",
      "\u001b[31m1.621 - auc = 0.617\u001b[0m\n",
      "[13/20][==================================================] 100% – loss 18.82686 -    2s [2005 fps]\n",
      "\u001b[31m2.020 - auc = 0.613\u001b[0m\n",
      "[14/20][==================================================] 100% – loss 18.63910 -    2s [1918 fps]\n",
      "\u001b[31m1.676 - auc = 0.577\u001b[0m\n",
      "[15/20][==================================================] 100% – loss 18.69297 -    2s [2075 fps]\n",
      "\u001b[31m1.679 - auc = 0.635\u001b[0m\n",
      "[16/20][==================================================] 100% – loss 18.53726 -    2s [2103 fps]\n",
      "\u001b[31m1.634 - auc = 0.622\u001b[0m\n",
      "[17/20][==================================================] 100% – loss 18.49066 -    2s [2131 fps]\n",
      "\u001b[31m1.649 - auc = 0.621\u001b[0m\n",
      "[18/20][==================================================] 100% – loss 18.43735 -    2s [2069 fps]\n",
      "\u001b[31m1.632 - auc = 0.630\u001b[0m\n",
      "[19/20][==================================================] 100% – loss 18.37639 -    2s [2067 fps]\n",
      "\u001b[31m1.622 - auc = 0.546\u001b[0m\n",
      "[20/20][==================================================] 100% – loss 18.38337 -    2s [2125 fps]\n",
      "\u001b[31m1.643 - auc = 0.562\u001b[0m\n"
     ]
    }
   ],
   "source": [
    "max_epochs = 20\n",
    "batch_size = 32\n",
    "N = X_train.shape[0]\n",
    "ypredtests = []\n",
    "aucs = []\n",
    "noise = .2\n",
    "for i in range(max_epochs):\n",
    "    loss_agg = []\n",
    "    start = time.time()\n",
    "    net2.train()\n",
    "    for j, x in enumerate(get_batch(X_train_ae, batch_size, allow_smaller_batch=True)):\n",
    "        x = torch.from_numpy(x).type(FloatTensor)\n",
    "        x = x.view(x.size(0), -1)\n",
    "        x_p = (x + torch.rand(x.size()) * noise * 2. - noise)\n",
    "#         x_p = x\n",
    "        x_p = Variable(x_p)\n",
    "        #x = x.view((-1, 1, 28, 28))\n",
    "        net2.zero_grad()\n",
    "        x_ = net2(x_p)\n",
    "        loss = torch.dist(Variable(x), x_) \n",
    "        loss.backward()\n",
    "        optimizer.step()\n",
    "        loss_agg.append(loss.data.cpu().numpy())\n",
    "        progress(loss_agg, i + 1, max_epochs, j + 1, batch_size, N, start, net2, mnist.data[:55000], in_size=[28*28])\n",
    "    else:\n",
    "        if i % 20 == 0 and i != 0:\n",
    "            optimizer.param_groups[0]['lr'] /= 2.\n",
    "            \n",
    "        net2.eval()\n",
    "        y_pred_test = l1norm(X_test_ae, net2)\n",
    "        mean_normal = np.mean(y_pred_test[:nnominal])\n",
    "        mean_anomaly = np.mean(y_pred_test[nnominal:])\n",
    "\n",
    "        scores = -y_pred_test\n",
    "        labels = Y_test\n",
    "\n",
    "        p, r, t, auc = calc_pr(scores, labels)\n",
    "        aucs.append(auc)\n",
    "        ypredtests.append(y_pred_test)\n",
    "        print('\\x1b[31m%.3f - auc = %.3f\\x1b[0m' % (mean_anomaly / mean_normal, auc))\n",
    "        \n",
    "y_pred_test = ypredtests[np.argmax(aucs)]\n",
    "auc = aucs[np.argmax(aucs)]"
   ]
  },
  {
   "cell_type": "code",
   "execution_count": 94,
   "metadata": {},
   "outputs": [
    {
     "name": "stdout",
     "output_type": "stream",
     "text": [
      "320,100 parameters\n",
      "320,100 trainable parameters\n"
     ]
    }
   ],
   "source": [
    "# class Autoencoder(nn.Module):\n",
    "#     def __init__(self, input_size, dim1, dim2):\n",
    "#         super(Autoencoder, self).__init__()\n",
    "#         self.input_size = input_size\n",
    "#         self.dim1 = dim1\n",
    "#         self.dim2 = dim2\n",
    "#         self.layer1 = nn.Parameter(-.6 * torch.rand(self.input_size, self.dim1) + .3)\n",
    "#         self.layer2 = nn.Parameter(-.2 * torch.rand(self.dim1, self.dim2) + .1)\n",
    "        \n",
    "#     def forward(self, input):\n",
    "#         x = input.view(-1, self.input_size)\n",
    "#         # encoder\n",
    "#         x = nn.functional.relu((torch.mm(x, self.layer1)))\n",
    "#         x = nn.functional.relu((torch.mm(x, self.layer2)))\n",
    "        \n",
    "#         # tied decoder\n",
    "#         x = nn.functional.relu(torch.mm(x, torch.transpose(self.layer2, 0, 1)))\n",
    "#         x = torch.mm(x, torch.transpose(self.layer1, 0, 1))\n",
    "#         return x.view_as(input)\n",
    "    \n",
    "    \n",
    "    \n",
    "class Autoencoder(nn.Module):\n",
    "    def __init__(self, input_size, dim1, dim2, dim3, dim4):\n",
    "        super(Autoencoder, self).__init__()\n",
    "        self.input_size = input_size\n",
    "        self.dim1 = dim1\n",
    "        self.dim2 = dim2\n",
    "        self.dim3 = dim3\n",
    "        self.dim4 = dim4\n",
    "        self.layer1 = nn.Parameter(-.6 * torch.rand(self.input_size, self.dim1) + .3)\n",
    "        self.layer2 = nn.Parameter(-.2 * torch.rand(self.dim1, self.dim2) + .1)\n",
    "        self.layer3 = nn.Parameter(-.2 * torch.rand(self.dim2, self.dim3) + .1)\n",
    "        self.layer4 = nn.Parameter(-.2 * torch.rand(self.dim3, self.dim4) + .1)\n",
    "        #self.layer3 = nn.Parameter(-.6 * torch.rand(self.dim2, self.dim1) + .3)\n",
    "        #self.layer4 = nn.Parameter(-.2 * torch.rand(self.dim1, self.input_size) + .1)\n",
    "        \n",
    "    def forward(self, input):\n",
    "        x = input.view(-1, self.input_size)\n",
    "        # encoder\n",
    "        x = nn.functional.relu((torch.mm(x, self.layer1)))\n",
    "        x = nn.functional.relu((torch.mm(x, self.layer2)))\n",
    "        x = nn.functional.relu((torch.mm(x, self.layer3)))\n",
    "        x = nn.functional.relu((torch.mm(x, self.layer4)))\n",
    "        \n",
    "        # tied decoder\n",
    "        #x = nn.functional.relu((torch.mm(x, self.layer3)))\n",
    "        #x = torch.mm(x, self.layer4)\n",
    "        x = nn.functional.relu(torch.mm(x, torch.transpose(self.layer4, 0, 1)))\n",
    "        x = nn.functional.relu(torch.mm(x, torch.transpose(self.layer3, 0, 1)))\n",
    "        x = nn.functional.relu(torch.mm(x, torch.transpose(self.layer2, 0, 1)))\n",
    "        x = torch.mm(x, torch.transpose(self.layer1, 0, 1))\n",
    "        return x.view_as(input)\n",
    "    \n",
    "    \n",
    "    \n",
    "net3 = Autoencoder(28*28, 300, 200, 100, 49)\n",
    "count_parameters(net3)\n",
    "optimizer = torch.optim.Adamax(params=net3.parameters(), lr=0.01)"
   ]
  },
  {
   "cell_type": "code",
   "execution_count": 98,
   "metadata": {},
   "outputs": [
    {
     "name": "stdout",
     "output_type": "stream",
     "text": [
      "[ 1/20][==================================================] 100% – loss 17.40336 -    2s [2025 fps]\n",
      "\u001b[31m1.546 - auc = 0.620\u001b[0m\n",
      "[ 2/20][==================================================] 100% – loss 17.36237 -    2s [2073 fps]\n",
      "\u001b[31m1.502 - auc = 0.572\u001b[0m\n",
      "[ 3/20][==================================================] 100% – loss 17.29296 -    2s [1972 fps]\n",
      "\u001b[31m1.544 - auc = 0.624\u001b[0m\n",
      "[ 4/20][==================================================] 100% – loss 17.28862 -    2s [1852 fps]\n",
      "\u001b[31m1.548 - auc = 0.619\u001b[0m\n",
      "[ 5/20][==================================================] 100% – loss 17.26841 -    2s [1911 fps]\n",
      "\u001b[31m1.547 - auc = 0.623\u001b[0m\n",
      "[ 6/20][==================================================] 100% – loss 17.16333 -    2s [1734 fps]\n",
      "\u001b[31m1.554 - auc = 0.585\u001b[0m\n",
      "[ 7/20][==================================================] 100% – loss 17.14669 -    2s [1972 fps]\n",
      "\u001b[31m1.552 - auc = 0.594\u001b[0m\n",
      "[ 8/20][==================================================] 100% – loss 17.10737 -    2s [1959 fps]\n",
      "\u001b[31m1.538 - auc = 0.597\u001b[0m\n",
      "[ 9/20][==================================================] 100% – loss 17.05798 -    2s [1946 fps]\n",
      "\u001b[31m1.535 - auc = 0.616\u001b[0m\n",
      "[10/20][==================================================] 100% – loss 17.04352 -    2s [1874 fps]\n",
      "\u001b[31m1.537 - auc = 0.574\u001b[0m\n",
      "[11/20][==================================================] 100% – loss 17.00914 -    2s [1896 fps]\n",
      "\u001b[31m1.517 - auc = 0.607\u001b[0m\n",
      "[12/20][==================================================] 100% – loss 16.91202 -    2s [1967 fps]\n",
      "\u001b[31m1.559 - auc = 0.624\u001b[0m\n",
      "[13/20][==================================================] 100% – loss 16.83605 -    2s [1821 fps]\n",
      "\u001b[31m1.532 - auc = 0.589\u001b[0m\n",
      "[14/20][==================================================] 100% – loss 16.91017 -    3s [1614 fps]\n",
      "\u001b[31m1.513 - auc = 0.610\u001b[0m\n",
      "[15/20][==================================================] 100% – loss 16.84305 -    2s [1804 fps]\n",
      "\u001b[31m1.513 - auc = 0.576\u001b[0m\n",
      "[16/20][==================================================] 100% – loss 16.73078 -    3s [1613 fps]\n",
      "\u001b[31m1.552 - auc = 0.625\u001b[0m\n",
      "[17/20][==================================================] 100% – loss 16.72554 -    2s [1899 fps]\n",
      "\u001b[31m1.539 - auc = 0.626\u001b[0m\n",
      "[18/20][==================================================] 100% – loss 16.72483 -    2s [1832 fps]\n",
      "\u001b[31m1.559 - auc = 0.620\u001b[0m\n",
      "[19/20][==================================================] 100% – loss 16.73527 -    2s [1757 fps]\n",
      "\u001b[31m1.550 - auc = 0.606\u001b[0m\n",
      "[20/20][==================================================] 100% – loss 16.67326 -    3s [1643 fps]\n",
      "\u001b[31m1.528 - auc = 0.582\u001b[0m\n"
     ]
    }
   ],
   "source": [
    "max_epochs = 20\n",
    "batch_size = 32\n",
    "N = X_train.shape[0]\n",
    "ypredtests = []\n",
    "aucs = []\n",
    "noise = .2\n",
    "for i in range(max_epochs):\n",
    "    loss_agg = []\n",
    "    start = time.time()\n",
    "    net3.train()\n",
    "    for j, x in enumerate(get_batch(X_train_ae, batch_size, allow_smaller_batch=True)):\n",
    "        x = torch.from_numpy(x).type(FloatTensor)\n",
    "        x = x.view(x.size(0), -1)\n",
    "#         x_p = (x + torch.rand(x.size()) * noise * 2. - noise)\n",
    "        x_p = x\n",
    "        x_p = Variable(x_p)\n",
    "        #x = x.view((-1, 1, 28, 28))\n",
    "        net3.zero_grad()\n",
    "        x_ = net3(x_p)\n",
    "        loss = torch.dist(Variable(x), x_) \n",
    "        loss.backward()\n",
    "        optimizer.step()\n",
    "        loss_agg.append(loss.data.cpu().numpy())\n",
    "        progress(loss_agg, i + 1, max_epochs, j + 1, batch_size, N, start, net3, mnist.data[:55000], in_size=[28*28])\n",
    "    else:\n",
    "        if i % 20 == 0 and i != 0:\n",
    "            optimizer.param_groups[0]['lr'] /= 2.\n",
    "            \n",
    "        net3.eval()\n",
    "        y_pred_test = l1norm(X_test_ae, net3)\n",
    "        mean_normal = np.mean(y_pred_test[:nnominal])\n",
    "        mean_anomaly = np.mean(y_pred_test[nnominal:])\n",
    "\n",
    "        scores = -y_pred_test\n",
    "        labels = Y_test\n",
    "\n",
    "        p, r, t, auc = calc_pr(scores, labels)\n",
    "        aucs.append(auc)\n",
    "        ypredtests.append(y_pred_test)\n",
    "        print('\\x1b[31m%.3f - auc = %.3f\\x1b[0m' % (mean_anomaly / mean_normal, auc))\n",
    "        \n",
    "y_pred_test = ypredtests[np.argmax(aucs)]\n",
    "auc = aucs[np.argmax(aucs)]"
   ]
  },
  {
   "cell_type": "code",
   "execution_count": null,
   "metadata": {},
   "outputs": [],
   "source": []
  },
  {
   "cell_type": "code",
   "execution_count": null,
   "metadata": {},
   "outputs": [],
   "source": []
  },
  {
   "cell_type": "code",
   "execution_count": null,
   "metadata": {},
   "outputs": [],
   "source": []
  },
  {
   "cell_type": "code",
   "execution_count": 106,
   "metadata": {},
   "outputs": [
    {
     "name": "stdout",
     "output_type": "stream",
     "text": [
      "327,761 parameters\n",
      "327,761 trainable parameters\n"
     ]
    }
   ],
   "source": [
    "n_dim = 28*28\n",
    "z = 49\n",
    "encoder4 = nn.Sequential(\n",
    "                # Encoder\n",
    "                nn.Linear(n_dim, 196),\n",
    "                nn.ReLU(),\n",
    "                nn.Linear(196, z))\n",
    "decoder4 = nn.Sequential(\n",
    "                nn.ReLU(),\n",
    "                # Decoder\n",
    "                nn.Linear(z, 196),\n",
    "                nn.ReLU(),\n",
    "                nn.Linear(196, n_dim)).type(FloatTensor)\n",
    "net4 = nn.Sequential(encoder4, decoder4)\n",
    "\n",
    "count_parameters(net4)\n",
    "optimizer = torch.optim.Adamax(params=net4.parameters(), lr=0.01)"
   ]
  },
  {
   "cell_type": "code",
   "execution_count": 107,
   "metadata": {},
   "outputs": [
    {
     "name": "stdout",
     "output_type": "stream",
     "text": [
      "[ 1/30][==================================================] 100% – loss 28.63539 -    1s [2768 fps]\n",
      "\u001b[31m1.534 - auc = 0.557\u001b[0m\n",
      "[ 2/30][==================================================] 100% – loss 23.40372 -    1s [3113 fps]\n",
      "\u001b[31m1.574 - auc = 0.601\u001b[0m\n",
      "[ 3/30][==================================================] 100% – loss 22.19711 -    1s [2685 fps]\n",
      "\u001b[31m1.555 - auc = 0.598\u001b[0m\n",
      "[ 4/30][==================================================] 100% – loss 21.48862 -    1s [2717 fps]\n",
      "\u001b[31m1.573 - auc = 0.618\u001b[0m\n",
      "[ 5/30][==================================================] 100% – loss 21.05483 -    3s [1701 fps]\n",
      "\u001b[31m1.586 - auc = 0.622\u001b[0m\n",
      "[ 6/30][==================================================] 100% – loss 20.70160 -    3s [1602 fps]\n",
      "\u001b[31m1.595 - auc = 0.628\u001b[0m\n",
      "[ 7/30][==================================================] 100% – loss 20.40109 -    3s [1702 fps]\n",
      "\u001b[31m1.605 - auc = 0.640\u001b[0m\n",
      "[ 8/30][==================================================] 100% – loss 20.22968 -    3s [1585 fps]\n",
      "\u001b[31m1.588 - auc = 0.627\u001b[0m\n",
      "[ 9/30][==================================================] 100% – loss 20.03202 -    2s [1724 fps]\n",
      "\u001b[31m1.609 - auc = 0.621\u001b[0m\n",
      "[10/30][==================================================] 100% – loss 19.86584 -    2s [1766 fps]\n",
      "\u001b[31m1.617 - auc = 0.632\u001b[0m\n",
      "[11/30][==================================================] 100% – loss 19.73268 -    2s [1757 fps]\n",
      "\u001b[31m1.626 - auc = 0.637\u001b[0m\n",
      "[12/30][==================================================] 100% – loss 19.63057 -    2s [1759 fps]\n",
      "\u001b[31m1.638 - auc = 0.653\u001b[0m\n",
      "[13/30][==================================================] 100% – loss 19.49316 -    2s [1763 fps]\n",
      "\u001b[31m1.647 - auc = 0.674\u001b[0m\n",
      "[14/30][==================================================] 100% – loss 19.43929 -    2s [1721 fps]\n",
      "\u001b[31m1.633 - auc = 0.654\u001b[0m\n",
      "[15/30][==================================================] 100% – loss 19.35665 -    2s [1758 fps]\n",
      "\u001b[31m1.644 - auc = 0.656\u001b[0m\n",
      "[16/30][==================================================] 100% – loss 19.29450 -    3s [1679 fps]\n",
      "\u001b[31m1.648 - auc = 0.656\u001b[0m\n",
      "[17/30][==================================================] 100% – loss 19.20218 -    3s [1673 fps]\n",
      "\u001b[31m1.612 - auc = 0.634\u001b[0m\n",
      "[18/30][==================================================] 100% – loss 19.13444 -    2s [1718 fps]\n",
      "\u001b[31m1.619 - auc = 0.650\u001b[0m\n",
      "[19/30][==================================================] 100% – loss 19.03540 -    3s [1510 fps]\n",
      "\u001b[31m1.613 - auc = 0.641\u001b[0m\n",
      "[20/30][==================================================] 100% – loss 19.01439 -    2s [1733 fps]\n",
      "\u001b[31m1.643 - auc = 0.659\u001b[0m\n",
      "[21/30][==================================================] 100% – loss 18.96570 -    2s [1731 fps]\n",
      "\u001b[31m1.653 - auc = 0.677\u001b[0m\n",
      "[22/30][==================================================] 100% – loss 18.50119 -    3s [1616 fps]\n",
      "\u001b[31m1.683 - auc = 0.672\u001b[0m\n",
      "[23/30][==================================================] 100% – loss 18.40790 -    3s [1655 fps]\n",
      "\u001b[31m1.668 - auc = 0.670\u001b[0m\n",
      "[24/30][==================================================] 100% – loss 18.38685 -    3s [1638 fps]\n",
      "\u001b[31m1.671 - auc = 0.667\u001b[0m\n",
      "[25/30][==================================================] 100% – loss 18.36309 -    3s [1670 fps]\n",
      "\u001b[31m1.669 - auc = 0.666\u001b[0m\n",
      "[26/30][==================================================] 100% – loss 18.31099 -    3s [1679 fps]\n",
      "\u001b[31m1.677 - auc = 0.677\u001b[0m\n",
      "[27/30][==================================================] 100% – loss 18.28301 -    3s [1609 fps]\n",
      "\u001b[31m1.673 - auc = 0.678\u001b[0m\n",
      "[28/30][==================================================] 100% – loss 18.26825 -    2s [1720 fps]\n",
      "\u001b[31m1.665 - auc = 0.669\u001b[0m\n",
      "[29/30][==================================================] 100% – loss 18.24352 -    3s [1707 fps]\n",
      "\u001b[31m1.672 - auc = 0.673\u001b[0m\n",
      "[30/30][==================================================] 100% – loss 18.19869 -    3s [1694 fps]\n",
      "\u001b[31m1.659 - auc = 0.666\u001b[0m\n"
     ]
    }
   ],
   "source": [
    "max_epochs = 30\n",
    "batch_size = 32\n",
    "N = X_train.shape[0]\n",
    "ypredtests = []\n",
    "aucs = []\n",
    "for i in range(max_epochs):\n",
    "    loss_agg = []\n",
    "    start = time.time()\n",
    "    net4.train()\n",
    "    for j, x in enumerate(get_batch(X_train_ae, batch_size, allow_smaller_batch=True)):\n",
    "        x = Variable(torch.from_numpy(x).type(FloatTensor))\n",
    "        x = x.view(x.size(0), -1)\n",
    "        #x = x.view((-1, 1, 28, 28))\n",
    "        net4.zero_grad()\n",
    "        x_ = net4(x)\n",
    "        loss = torch.dist(x, x_) \n",
    "        loss.backward()\n",
    "        optimizer.step()\n",
    "        loss_agg.append(loss.data.cpu().numpy())\n",
    "        progress(loss_agg, i + 1, max_epochs, j + 1, batch_size, N, start, net4, mnist.data[:55000], in_size=[28*28])\n",
    "    else:\n",
    "        if i % 20 == 0 and i != 0:\n",
    "            optimizer.param_groups[0]['lr'] /= 2.\n",
    "            \n",
    "        net4.eval()\n",
    "        y_pred_test = l1norm(X_test_ae, net4)\n",
    "        mean_normal = np.mean(y_pred_test[:nnominal])\n",
    "        mean_anomaly = np.mean(y_pred_test[nnominal:])\n",
    "\n",
    "        scores = -y_pred_test\n",
    "        labels = Y_test\n",
    "\n",
    "        p, r, t, auc = calc_pr(scores, labels)\n",
    "        aucs.append(auc)\n",
    "        ypredtests.append(y_pred_test)\n",
    "        print('\\x1b[31m%.3f - auc = %.3f\\x1b[0m' % (mean_anomaly / mean_normal, auc))\n",
    "        \n",
    "y_pred_test = ypredtests[np.argmax(aucs)]\n",
    "auc = aucs[np.argmax(aucs)]"
   ]
  },
  {
   "cell_type": "code",
   "execution_count": null,
   "metadata": {},
   "outputs": [],
   "source": []
  }
 ],
 "metadata": {
  "kernelspec": {
   "display_name": "Python 3",
   "language": "python",
   "name": "python3"
  },
  "language_info": {
   "codemirror_mode": {
    "name": "ipython",
    "version": 3
   },
   "file_extension": ".py",
   "mimetype": "text/x-python",
   "name": "python",
   "nbconvert_exporter": "python",
   "pygments_lexer": "ipython3",
   "version": "3.6.5"
  }
 },
 "nbformat": 4,
 "nbformat_minor": 2
}
