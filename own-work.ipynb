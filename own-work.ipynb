{
 "cells": [
  {
   "cell_type": "markdown",
   "metadata": {},
   "source": []
  },
  {
   "cell_type": "code",
   "execution_count": 1,
   "metadata": {},
   "outputs": [
    {
     "name": "stdout",
     "output_type": "stream",
     "text": [
      "Training on CPU\n"
     ]
    }
   ],
   "source": [
    "import os\n",
    "\n",
    "import numpy as np\n",
    "np.random.seed(0)\n",
    "np.set_printoptions(suppress=True)\n",
    "\n",
    "from sklearn.datasets import fetch_mldata\n",
    "from sklearn import metrics\n",
    "from sklearn.model_selection import train_test_split\n",
    "from sklearn import decomposition\n",
    "\n",
    "import pandas as pd\n",
    "\n",
    "import time\n",
    "import matplotlib.pyplot as plt\n",
    "\n",
    "import torch\n",
    "import torch.nn as nn\n",
    "from torch.autograd import Variable\n",
    "import torch.nn.functional as F\n",
    "from torch import optim\n",
    "from utils import progress, count_parameters, visualize, get_batch\n",
    "\n",
    "cuda = torch.cuda.is_available() # True if cuda is available, False otherwise\n",
    "FloatTensor = torch.cuda.FloatTensor if cuda else torch.FloatTensor\n",
    "LongTensor = torch.cuda.LongTensor if cuda else torch.LongTensor\n",
    "print('Training on %s' % ('GPU' if cuda else 'CPU'))\n",
    "\n",
    "\n",
    "%matplotlib inline"
   ]
  },
  {
   "cell_type": "code",
   "execution_count": 2,
   "metadata": {},
   "outputs": [],
   "source": [
    "mnist = fetch_mldata('MNIST original', data_home='.', )\n",
    "mnist.data = mnist.data.astype(np.float32)\n",
    "mu = np.mean(mnist.data)\n",
    "std = np.std(mnist.data)\n",
    "mnist.data = (mnist.data - mu) / std"
   ]
  },
  {
   "cell_type": "markdown",
   "metadata": {},
   "source": [
    "### 1. MNIST anomaly dataset"
   ]
  },
  {
   "cell_type": "code",
   "execution_count": 3,
   "metadata": {},
   "outputs": [],
   "source": [
    "nnominal = 4859\n",
    "nanomalies = 265\n",
    "fours = mnist.data[mnist.target == 4]\n",
    "rests = mnist.data[mnist.target != 4]\n",
    "idx = np.random.choice(range(fours.shape[0]), size=nnominal, replace=False)\n",
    "fours = fours[idx]\n",
    "idx = np.random.choice(range(rests.shape[0]), size=nanomalies, replace=False)\n",
    "rests = rests[idx]\n",
    "X_train = np.concatenate([fours, rests])\n",
    "Y_train = np.array([0] * nnominal + [1] * nanomalies)\n",
    "X_test, Y_test = X_train, Y_train"
   ]
  },
  {
   "cell_type": "markdown",
   "metadata": {},
   "source": [
    "Some helper functions."
   ]
  },
  {
   "cell_type": "code",
   "execution_count": 12,
   "metadata": {},
   "outputs": [],
   "source": [
    "def calc_pr(scores, labels, plot=False):\n",
    "    \"\"\"\n",
    "    Given scores and labels, returns the precision, recall, thresholds and\n",
    "    area under the curve.\n",
    "    \n",
    "    Params:\n",
    "        scores      (1d-numpy array): low scores should represent anomalies.\n",
    "        labels      (1d-numpy array): same shape as `score`, `1` is for anonaly,\n",
    "                                      `0` for normal data.\n",
    "        plot                  (bool): if `True`, plots the precision-recall curve.\n",
    "    \n",
    "    Returns:\n",
    "        precision, recall, thresholds, area under the curve\n",
    "    \"\"\"\n",
    "    if scores.ndim != 1:\n",
    "        raise ValueError('`scores` has %i dimensions instead of 1.' % scores.ndim)\n",
    "    if not isinstance(scores, np.ndarray):\n",
    "        scores = np.array(scores)\n",
    "    if not isinstance(labels, np.ndarray):\n",
    "        labels = np.array(labels)\n",
    "    \n",
    "    idx = np.argsort(scores)\n",
    "    ascores = scores[idx]\n",
    "    alabels = labels[idx]\n",
    "    tps = np.cumsum(alabels).astype(np.float32)\n",
    "    fps = np.arange(tps.shape[0]) + 1. - tps\n",
    "    recall = tps / np.sum(alabels)\n",
    "    precision = np.divide(tps, tps + fps, out=np.zeros_like(tps), where=(tps + fps)!=0.)\n",
    "    auc = np.trapz(precision, recall)\n",
    "    \n",
    "    if plot:\n",
    "        plot_pr(precision, recall, auc)\n",
    "    return precision, recall, ascores, auc\n",
    "\n",
    "\n",
    "def plot_pr(precision, recall, auc=None):\n",
    "    plt.plot(recall, precision)\n",
    "    plt.ylim((0., 1.1))\n",
    "    plt.xlim((0., 1.1))\n",
    "    plt.ylabel('precision')\n",
    "    plt.xlabel('recall');\n",
    "    plt.title('Precision-Recall curve (AUC = %s)\\n' % ('%.3f' % auc if auc else 'N/A'), size=14)\n",
    "    plt.show\n",
    "    \n",
    "    \n",
    "def tonumpy(x):\n",
    "    return x.data.cpu().numpy()\n",
    "\n",
    "\n",
    "def l1norm(data, net):\n",
    "    x = Variable(torch.from_numpy(data).type(FloatTensor))\n",
    "    x_tilda = net(x).cpu().data.numpy()\n",
    "    x = x.cpu().data.numpy()\n",
    "    return np.sum(np.abs((x - x_tilda)), axis=1)\n",
    "\n",
    "def clear_grad(models):\n",
    "    for m in models:\n",
    "        m.zero_grad()"
   ]
  },
  {
   "cell_type": "code",
   "execution_count": 5,
   "metadata": {},
   "outputs": [],
   "source": [
    "X_train_ae = (X_train * std + mu) / 255.\n",
    "X_test_ae = X_train_ae"
   ]
  },
  {
   "cell_type": "code",
   "execution_count": null,
   "metadata": {},
   "outputs": [],
   "source": []
  },
  {
   "cell_type": "code",
   "execution_count": 34,
   "metadata": {},
   "outputs": [
    {
     "name": "stdout",
     "output_type": "stream",
     "text": [
      "328,251 parameters\n",
      "328,251 trainable parameters\n",
      "7,681 parameters\n",
      "7,681 trainable parameters\n"
     ]
    }
   ],
   "source": [
    "n_dim = 28*28\n",
    "z = 49\n",
    "encoder1 = nn.Sequential(\n",
    "                nn.Linear(n_dim, 196),\n",
    "                nn.ReLU(),\n",
    "                nn.BatchNorm1d(196),\n",
    "                nn.Linear(196, z))\n",
    "\n",
    "decoder1 = nn.Sequential(\n",
    "                nn.ReLU(),\n",
    "                nn.BatchNorm1d(z),\n",
    "                nn.Linear(z, 196),\n",
    "                nn.ReLU(),\n",
    "                nn.Linear(196, n_dim))\n",
    "\n",
    "net1 = nn.Sequential(encoder1, decoder1).type(FloatTensor)\n",
    "  \n",
    "    \n",
    "discriminator1 = nn.Sequential(\n",
    "            nn.Linear(z, 64),\n",
    "            nn.ReLU(),\n",
    "            nn.BatchNorm1d(64),\n",
    "            nn.Linear(64, 64),\n",
    "            nn.ReLU(),\n",
    "            nn.BatchNorm1d(64),\n",
    "            nn.Linear(64, 1),\n",
    "            nn.Sigmoid()).type(FloatTensor)\n",
    "\n",
    "count_parameters(net1)\n",
    "count_parameters(discriminator1)\n"
   ]
  },
  {
   "cell_type": "code",
   "execution_count": 35,
   "metadata": {},
   "outputs": [],
   "source": [
    "lr = 0.01 # learning rate\n",
    "criterion = nn.BCELoss()\n",
    "optimizer_ae = torch.optim.Adam(params=net1.parameters(), lr=lr)\n",
    "optimizer_d = torch.optim.Adam(params=discriminator1.parameters(), lr=0.001)\n",
    "optimizer_g = torch.optim.Adam(params=encoder1.parameters(), lr=lr)"
   ]
  },
  {
   "cell_type": "code",
   "execution_count": 36,
   "metadata": {},
   "outputs": [
    {
     "name": "stdout",
     "output_type": "stream",
     "text": [
      "[ 1/10][==================================================] 100% – loss 26.82065 -    3s [1554 fps]\n",
      "[ 1/10] recon_loss 26.821 D_loss 1.389 G_loss 0.694\n",
      "[ 2/10][==================================================] 100% – loss 22.17502 -    3s [1436 fps]\n",
      "[ 2/10] recon_loss 22.175 D_loss 1.387 G_loss 0.693\n",
      "[ 3/10][==================================================] 100% – loss 20.58491 -    3s [1576 fps]\n",
      "[ 3/10] recon_loss 20.585 D_loss 1.386 G_loss 0.693\n",
      "[ 4/10][==================================================] 100% – loss 19.56042 -    3s [1577 fps]\n",
      "[ 4/10] recon_loss 19.560 D_loss 1.386 G_loss 0.693\n",
      "[ 5/10][==================================================] 100% – loss 18.98363 -    3s [1323 fps]\n",
      "[ 5/10] recon_loss 18.984 D_loss 1.386 G_loss 0.693\n",
      "[ 6/10][==================================================] 100% – loss 18.50047 -    4s [1185 fps]\n",
      "[ 6/10] recon_loss 18.500 D_loss 1.386 G_loss 0.693\n",
      "[ 7/10][==================================================] 100% – loss 18.09516 -    4s [1223 fps]\n",
      "[ 7/10] recon_loss 18.095 D_loss 1.386 G_loss 0.693\n",
      "[ 8/10][==================================================] 100% – loss 17.87991 -    4s [1210 fps]\n",
      "[ 8/10] recon_loss 17.880 D_loss 1.386 G_loss 0.693\n",
      "[ 9/10][==================================================] 100% – loss 17.62582 -    4s [1205 fps]\n",
      "[ 9/10] recon_loss 17.626 D_loss 1.386 G_loss 0.693\n",
      "[10/10][==================================================] 100% – loss 17.48342 -    4s [1157 fps]\n",
      "[10/10] recon_loss 17.483 D_loss 1.386 G_loss 0.693\n"
     ]
    }
   ],
   "source": [
    "info = {}\n",
    "info['recon_loss'] = []\n",
    "info['discriminator_loss'] = []\n",
    "info['generator_loss'] = []\n",
    "\n",
    "models = [encoder1, decoder1, discriminator1]\n",
    "batch_size = 32\n",
    "N = X_train_ae.shape[0]\n",
    "\n",
    "\n",
    "max_epochs = 10\n",
    "for i in range(max_epochs):\n",
    "    start = time.time()\n",
    "    for j, x_numpy in enumerate(get_batch(X_train_ae, batch_size, allow_smaller_batch=True)):\n",
    "        batch = x_numpy.shape[0]\n",
    "        ones = Variable(torch.ones(batch)).type(FloatTensor)\n",
    "        zeros = Variable(torch.zeros(batch)).type(FloatTensor)\n",
    "        \n",
    "        # (1) Reconstruction loss\n",
    "#         encoder1.zero_grad()\n",
    "#         decoder1.zero_grad()\n",
    "#         discriminator1.zero_grad()\n",
    "        clear_grad(models)\n",
    "        x = Variable(torch.from_numpy(x_numpy).type(FloatTensor).view(-1, 28*28))\n",
    "        x_ = net1(x)\n",
    "        reconstruction_loss = torch.dist(x, x_)\n",
    "        reconstruction_loss.backward()\n",
    "        optimizer_ae.step()\n",
    "        \n",
    "        # (2) Train the discriminator\n",
    "#         discriminator1.zero_grad()\n",
    "        clear_grad(models)\n",
    "        z_fake = encoder1(x.detach())\n",
    "        z_real = Variable(torch.randn(z_fake.size())).type(FloatTensor)\n",
    "        z_fake_d = discriminator1(z_fake)\n",
    "        z_real_d = discriminator1(z_real)\n",
    "\n",
    "        loss_real = criterion(z_real_d.squeeze(), ones)\n",
    "        loss_fake = criterion(z_fake_d.squeeze(), zeros)\n",
    "        loss_d = loss_real + loss_fake\n",
    "        loss_d.backward()\n",
    "        optimizer_d.step()\n",
    "\n",
    "        # (3) Generator step\n",
    "    \n",
    "#         encoder1.zero_grad()\n",
    "        clear_grad(models)\n",
    "        x = Variable(torch.from_numpy(x_numpy).type(FloatTensor).view(-1, 28*28))\n",
    "        z_fake = encoder1(x)\n",
    "        z_fake_d = discriminator1(z_fake)\n",
    "        loss_g = criterion(z_fake_d.squeeze(), ones)\n",
    "        loss_g.backward()\n",
    "        optimizer_g.step()\n",
    "    \n",
    "        info['recon_loss'].append(reconstruction_loss.data)\n",
    "        info['discriminator_loss'].append(loss_d.data)\n",
    "        info['generator_loss'].append(loss_g.data)\n",
    "        \n",
    "        progress(info['recon_loss'], i + 1, max_epochs, j + 1, batch_size, N, start)\n",
    "    print('[%2i/%2i] recon_loss %.3f D_loss %.3f G_loss %.3f' %\n",
    "      (i + 1, max_epochs, np.mean(info['recon_loss']),\n",
    "       np.mean(info['discriminator_loss']), np.mean(info['generator_loss'])))\n",
    "\n",
    "    info['recon_loss'] = []\n",
    "    info['discriminator_loss'] = []\n",
    "    info['generator_loss'] = []"
   ]
  },
  {
   "cell_type": "code",
   "execution_count": 37,
   "metadata": {},
   "outputs": [
    {
     "data": {
      "image/png": "[encoded data removed]",
      "text/plain": [
       "<Figure size 432x432 with 20 Axes>"
      ]
     },
     "metadata": {},
     "output_type": "display_data"
    }
   ],
   "source": [
    "net1.eval()\n",
    "visualize(net1, X_test[nnominal - 200:], in_size=[28*28], dtype=FloatTensor)"
   ]
  },
  {
   "cell_type": "code",
   "execution_count": 38,
   "metadata": {},
   "outputs": [],
   "source": [
    "X_codes = encoder1(Variable(torch.from_numpy(X_train_ae))).data.numpy()"
   ]
  },
  {
   "cell_type": "code",
   "execution_count": 39,
   "metadata": {},
   "outputs": [
    {
     "data": {
      "text/plain": [
       "(5124, 49)"
      ]
     },
     "execution_count": 39,
     "metadata": {},
     "output_type": "execute_result"
    }
   ],
   "source": [
    "X_codes.shape"
   ]
  },
  {
   "cell_type": "code",
   "execution_count": 42,
   "metadata": {},
   "outputs": [
    {
     "data": {
      "image/png": "[encoded data removed]",
      "text/plain": [
       "<Figure size 432x288 with 1 Axes>"
      ]
     },
     "metadata": {},
     "output_type": "display_data"
    }
   ],
   "source": [
    "plt.scatter(X_codes[:, 0], X_codes[:, 1]);"
   ]
  },
  {
   "cell_type": "code",
   "execution_count": 43,
   "metadata": {},
   "outputs": [
    {
     "data": {
      "image/png": "[encoded data removed]",
      "text/plain": [
       "<Figure size 432x288 with 1 Axes>"
      ]
     },
     "metadata": {},
     "output_type": "display_data"
    }
   ],
   "source": [
    "import pylab\n",
    "from mpl_toolkits.mplot3d import Axes3D\n",
    "%matplotlib inline\n",
    "\n",
    "fig = pylab.figure()\n",
    "ax = Axes3D(fig)\n",
    "\n",
    "ax.scatter(*zip(*X_codes[:, :3]));"
   ]
  },
  {
   "cell_type": "code",
   "execution_count": null,
   "metadata": {},
   "outputs": [],
   "source": []
  },
  {
   "cell_type": "code",
   "execution_count": null,
   "metadata": {},
   "outputs": [],
   "source": []
  },
  {
   "cell_type": "code",
   "execution_count": null,
   "metadata": {},
   "outputs": [],
   "source": []
  },
  {
   "cell_type": "code",
   "execution_count": 44,
   "metadata": {},
   "outputs": [],
   "source": [
    "#Encoder\n",
    "class Q_net(nn.Module):\n",
    "    def __init__(self):\n",
    "        super(Q_net, self).__init__()\n",
    "        self.lin1 = nn.Linear(X_dim, N)\n",
    "        self.lin2 = nn.Linear(N, N)\n",
    "        self.lin3gauss = nn.Linear(N, z_dim)\n",
    "    def forward(self, x):\n",
    "        x = F.droppout(self.lin1(x), p=0.25, training=self.training)\n",
    "        x = F.relu(x)\n",
    "        x = F.droppout(self.lin2(x), p=0.25, training=self.training)\n",
    "        x = F.relu(x)\n",
    "        xgauss = self.lin3gauss(x)\n",
    "        return xgauss\n",
    "    \n",
    "# Decoder\n",
    "class P_net(nn.Module):\n",
    "    def __init__(self):\n",
    "        super(P_net, self).__init__()\n",
    "        self.lin1 = nn.Linear(z_dim, N)\n",
    "        self.lin2 = nn.Linear(N, N)\n",
    "        self.lin3 = nn.Linear(N, X_dim)\n",
    "    def forward(self, x):\n",
    "        x = self.lin1(x)\n",
    "        x = F.dropout(x, p=0.25, training=self.training)\n",
    "        x = F.relu(x)\n",
    "        x = self.lin2(x)\n",
    "        x = F.dropout(x, p=0.25, training=self.training)\n",
    "        x = self.lin3(x)\n",
    "        return F.sigmoid(x)\n",
    "    \n",
    "    \n",
    "# Discriminator\n",
    "class D_net_gauss(nn.Module):\n",
    "    def __init__(self):\n",
    "        super(D_net_gauss, self).__init__()\n",
    "        self.lin1 = nn.Linear(z_dim, N)\n",
    "        self.lin2 = nn.Linear(N, N)\n",
    "        self.lin3 = nn.Linear(N, 1)\n",
    "    def forward(self, x):\n",
    "        x = F.dropout(self.lin1(x), p=0.2, training=self.training)\n",
    "        x = F.relu(x)\n",
    "        x = F.dropout(self.lin2(x), p=0.2, training=self.training)\n",
    "        x = F.relu(x)\n",
    "        return F.sigmoid(self.lin3(x))"
   ]
  },
  {
   "cell_type": "code",
   "execution_count": 46,
   "metadata": {},
   "outputs": [
    {
     "ename": "NameError",
     "evalue": "name 'X_dim' is not defined",
     "output_type": "error",
     "traceback": [
      "\u001b[0;31m---------------------------------------------------------------------------\u001b[0m",
      "\u001b[0;31mNameError\u001b[0m                                 Traceback (most recent call last)",
      "\u001b[0;32m<ipython-input-46-ea0d2f65db9e>\u001b[0m in \u001b[0;36m<module>\u001b[0;34m()\u001b[0m\n\u001b[1;32m      1\u001b[0m \u001b[0mtorch\u001b[0m\u001b[0;34m.\u001b[0m\u001b[0mmanual_seed\u001b[0m\u001b[0;34m(\u001b[0m\u001b[0;36m10\u001b[0m\u001b[0;34m)\u001b[0m\u001b[0;34m\u001b[0m\u001b[0m\n\u001b[0;32m----> 2\u001b[0;31m \u001b[0mQ\u001b[0m\u001b[0;34m,\u001b[0m \u001b[0mP\u001b[0m \u001b[0;34m=\u001b[0m \u001b[0mQ_net\u001b[0m\u001b[0;34m(\u001b[0m\u001b[0;34m)\u001b[0m\u001b[0;34m,\u001b[0m \u001b[0mP_net\u001b[0m\u001b[0;34m(\u001b[0m\u001b[0;36m0\u001b[0m\u001b[0;34m)\u001b[0m     \u001b[0;31m# Encoder/Decoder\u001b[0m\u001b[0;34m\u001b[0m\u001b[0m\n\u001b[0m\u001b[1;32m      3\u001b[0m \u001b[0mD_gauss\u001b[0m \u001b[0;34m=\u001b[0m \u001b[0mD_net_gauss\u001b[0m\u001b[0;34m(\u001b[0m\u001b[0;34m)\u001b[0m                \u001b[0;31m# Discriminator adversarial\u001b[0m\u001b[0;34m\u001b[0m\u001b[0m\n\u001b[1;32m      4\u001b[0m \u001b[0;32mif\u001b[0m \u001b[0mtorch\u001b[0m\u001b[0;34m.\u001b[0m\u001b[0mcuda\u001b[0m\u001b[0;34m.\u001b[0m\u001b[0mis_available\u001b[0m\u001b[0;34m(\u001b[0m\u001b[0;34m)\u001b[0m\u001b[0;34m:\u001b[0m\u001b[0;34m\u001b[0m\u001b[0m\n\u001b[1;32m      5\u001b[0m     \u001b[0mQ\u001b[0m \u001b[0;34m=\u001b[0m \u001b[0mQ\u001b[0m\u001b[0;34m.\u001b[0m\u001b[0mcuda\u001b[0m\u001b[0;34m(\u001b[0m\u001b[0;34m)\u001b[0m\u001b[0;34m\u001b[0m\u001b[0m\n",
      "\u001b[0;32m<ipython-input-44-3b4a0b6d4305>\u001b[0m in \u001b[0;36m__init__\u001b[0;34m(self)\u001b[0m\n\u001b[1;32m      3\u001b[0m     \u001b[0;32mdef\u001b[0m \u001b[0m__init__\u001b[0m\u001b[0;34m(\u001b[0m\u001b[0mself\u001b[0m\u001b[0;34m)\u001b[0m\u001b[0;34m:\u001b[0m\u001b[0;34m\u001b[0m\u001b[0m\n\u001b[1;32m      4\u001b[0m         \u001b[0msuper\u001b[0m\u001b[0;34m(\u001b[0m\u001b[0mQ_net\u001b[0m\u001b[0;34m,\u001b[0m \u001b[0mself\u001b[0m\u001b[0;34m)\u001b[0m\u001b[0;34m.\u001b[0m\u001b[0m__init__\u001b[0m\u001b[0;34m(\u001b[0m\u001b[0;34m)\u001b[0m\u001b[0;34m\u001b[0m\u001b[0m\n\u001b[0;32m----> 5\u001b[0;31m         \u001b[0mself\u001b[0m\u001b[0;34m.\u001b[0m\u001b[0mlin1\u001b[0m \u001b[0;34m=\u001b[0m \u001b[0mnn\u001b[0m\u001b[0;34m.\u001b[0m\u001b[0mLinear\u001b[0m\u001b[0;34m(\u001b[0m\u001b[0mX_dim\u001b[0m\u001b[0;34m,\u001b[0m \u001b[0mN\u001b[0m\u001b[0;34m)\u001b[0m\u001b[0;34m\u001b[0m\u001b[0m\n\u001b[0m\u001b[1;32m      6\u001b[0m         \u001b[0mself\u001b[0m\u001b[0;34m.\u001b[0m\u001b[0mlin2\u001b[0m \u001b[0;34m=\u001b[0m \u001b[0mnn\u001b[0m\u001b[0;34m.\u001b[0m\u001b[0mLinear\u001b[0m\u001b[0;34m(\u001b[0m\u001b[0mN\u001b[0m\u001b[0;34m,\u001b[0m \u001b[0mN\u001b[0m\u001b[0;34m)\u001b[0m\u001b[0;34m\u001b[0m\u001b[0m\n\u001b[1;32m      7\u001b[0m         \u001b[0mself\u001b[0m\u001b[0;34m.\u001b[0m\u001b[0mlin3gauss\u001b[0m \u001b[0;34m=\u001b[0m \u001b[0mnn\u001b[0m\u001b[0;34m.\u001b[0m\u001b[0mLinear\u001b[0m\u001b[0;34m(\u001b[0m\u001b[0mN\u001b[0m\u001b[0;34m,\u001b[0m \u001b[0mz_dim\u001b[0m\u001b[0;34m)\u001b[0m\u001b[0;34m\u001b[0m\u001b[0m\n",
      "\u001b[0;31mNameError\u001b[0m: name 'X_dim' is not defined"
     ]
    }
   ],
   "source": [
    "torch.manual_seed(10)\n",
    "Q, P = Q_net(), P_net(0)     # Encoder/Decoder\n",
    "D_gauss = D_net_gauss()                # Discriminator adversarial\n",
    "if torch.cuda.is_available():\n",
    "    Q = Q.cuda()\n",
    "    P = P.cuda()\n",
    "    D_cat = D_gauss.cuda()\n",
    "    D_gauss = D_net_gauss().cuda()\n",
    "# Set learning rates\n",
    "gen_lr, reg_lr = 0.0006, 0.0008\n",
    "# Set optimizators\n",
    "P_decoder = optim.Adam(P.parameters(), lr=gen_lr)\n",
    "Q_encoder = optim.Adam(Q.parameters(), lr=gen_lr)\n",
    "Q_generator = optim.Adam(Q.parameters(), lr=reg_lr)\n",
    "D_gauss_solver = optim.Adam(D_gauss.parameters(), lr=reg_lr)"
   ]
  }
 ],
 "metadata": {
  "kernelspec": {
   "display_name": "Python 3",
   "language": "python",
   "name": "python3"
  },
  "language_info": {
   "codemirror_mode": {
    "name": "ipython",
    "version": 3
   },
   "file_extension": ".py",
   "mimetype": "text/x-python",
   "name": "python",
   "nbconvert_exporter": "python",
   "pygments_lexer": "ipython3",
   "version": "3.6.5"
  }
 },
 "nbformat": 4,
 "nbformat_minor": 2
}
